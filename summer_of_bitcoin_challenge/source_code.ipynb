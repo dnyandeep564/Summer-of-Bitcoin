{
 "metadata": {
  "language_info": {
   "codemirror_mode": {
    "name": "ipython",
    "version": 3
   },
   "file_extension": ".py",
   "mimetype": "text/x-python",
   "name": "python",
   "nbconvert_exporter": "python",
   "pygments_lexer": "ipython3",
   "version": "3.8.8"
  },
  "orig_nbformat": 4,
  "kernelspec": {
   "name": "python3",
   "display_name": "Python 3.8.8 64-bit ('base': conda)"
  },
  "interpreter": {
   "hash": "98060e452df23478653dc1f4d7c6fe03aec9d78a05ff8ff0943931bee7632d24"
  }
 },
 "nbformat": 4,
 "nbformat_minor": 2,
 "cells": [
  {
   "cell_type": "code",
   "execution_count": 27,
   "metadata": {},
   "outputs": [],
   "source": [
    "import csv\n",
    "\n",
    "class MempoolTransaction():\n",
    "    def __init__(self, txid, fee, weight, parents):\n",
    "        self.txid = txid\n",
    "        self.fee = int(fee)\n",
    "        self.weight = int(weight)\n",
    "        a = parents.strip().split(';')\n",
    "        if a[0] == '':\n",
    "            self.parents = []\n",
    "        else:\n",
    "            self.parents = a\n",
    "\n",
    "    def __repr__(self):\n",
    "        return \"<txid \" + str(self.txid) + \"; fee \" + str(self.fee) + \"; weight \" + str(self.weight) + \"; parents \" + str(self.parents) + \">\"\n",
    "\n"
   ]
  },
  {
   "cell_type": "code",
   "execution_count": 28,
   "metadata": {},
   "outputs": [],
   "source": [
    "\n",
    "def parse_mempool_csv():\n",
    "    \"\"\" Parse the CSV file and return a list of MempoolTransaction.\"\"\"\n",
    "    with open('mempool.csv') as f:\n",
    "        next(f)\n",
    "        return([MempoolTransaction(*line.strip().split(',')) for line in f])\n",
    "\n",
    "transactions = parse_mempool_csv()\n",
    "#transactions[1]"
   ]
  },
  {
   "cell_type": "code",
   "execution_count": 29,
   "metadata": {},
   "outputs": [],
   "source": [
    "\n",
    "txid_map = {} # Map from transaction id to transaction element index of transactions\n",
    "for i in range(len(transactions)):\n",
    "    txid_map[transactions[i].txid] = i\n",
    "#print(txid_map['79c51c9d4124c5cbb37a85263748dcf44e182dff83561fa3087f0e9e43f41c33'])\n"
   ]
  },
  {
   "source": [
    "Construct a valid block for any transaction and storing its features\n"
   ],
   "cell_type": "markdown",
   "metadata": {}
  },
  {
   "cell_type": "code",
   "execution_count": 30,
   "metadata": {},
   "outputs": [],
   "source": [
    "\n",
    "def dfs(node, block):\n",
    "    fee_weight_size = [0,0,0]\n",
    "    for parent in (node.parents):\n",
    "        address = txid_map[str(parent)]\n",
    "        tmp = dfs(transactions[address],block)\n",
    "        fee_weight_size[0] += tmp[0]\n",
    "        fee_weight_size[1] += tmp[1]\n",
    "        fee_weight_size[2] += tmp[2]\n",
    "\n",
    "    block.append(node.txid)\n",
    "    fee_weight_size[0] += node.fee\n",
    "    fee_weight_size[1] += node.weight\n",
    "    fee_weight_size[2] += 1\n",
    "    return fee_weight_size\n",
    "\n",
    "def print_block(block):\n",
    "    for txid in block:\n",
    "        print(txid)\n"
   ]
  },
  {
   "cell_type": "code",
   "execution_count": 31,
   "metadata": {},
   "outputs": [
    {
     "output_type": "execute_result",
     "data": {
      "text/plain": [
       "'test = []\\nprint(dfs(transactions[1], test))\\nprint_block(test)'"
      ]
     },
     "metadata": {},
     "execution_count": 31
    }
   ],
   "source": [
    "\n",
    "\"\"\"test = []\n",
    "print(dfs(transactions[1], test))\n",
    "print_block(test)\"\"\"\n"
   ]
  },
  {
   "cell_type": "code",
   "execution_count": 32,
   "metadata": {},
   "outputs": [],
   "source": [
    "#store fee weight and size of created block for each transaction in transactions\n",
    "block = []\n",
    "block_fee = []\n",
    "block_weight = []\n",
    "block_size = []\n",
    "\n",
    "for node in transactions:\n",
    "    tmp_bl = []\n",
    "    tmp = dfs(node, tmp_bl)\n",
    "    block.append(tmp_bl)\n",
    "    block_fee.append(tmp[0])\n",
    "    block_weight.append(tmp[1])\n",
    "    block_size.append(tmp[2])\n"
   ]
  },
  {
   "cell_type": "code",
   "execution_count": 33,
   "metadata": {},
   "outputs": [],
   "source": [
    "#print(block_size)\n"
   ]
  },
  {
   "source": [
    "Getting some insight about the tree formed by each transaction\n"
   ],
   "cell_type": "markdown",
   "metadata": {}
  },
  {
   "cell_type": "code",
   "execution_count": 34,
   "metadata": {},
   "outputs": [
    {
     "output_type": "stream",
     "name": "stdout",
     "text": [
      "3 4\n2 3\n3 4\n4 5\n3 4\n2 3\n3 5\n5 6\n2 4\n2 3\n2 3\n2 5\n2 3\n3 4\n2 3\n2 3\n2 3\n3 7\n3 4\n3 4\n"
     ]
    }
   ],
   "source": [
    "\n",
    "for node in transactions:\n",
    "    if(len(node.parents)>1):\n",
    "        print(len(node.parents), block_size[txid_map[node.txid]])\n",
    "\n"
   ]
  },
  {
   "cell_type": "code",
   "execution_count": 35,
   "metadata": {},
   "outputs": [
    {
     "output_type": "stream",
     "name": "stdout",
     "text": [
      "918 2\n1048 2\n1481 2\n1484 2\n2274 2\n3829 2\n3839 2\n3865 2\n3867 2\n4122 6\n4336 2\n"
     ]
    }
   ],
   "source": [
    "temp_dic = []\n",
    "for i in range(6000):\n",
    "    temp_dic.append(0)\n",
    "for node in transactions:\n",
    "    for parent in node.parents:\n",
    "        temp_dic[txid_map[parent]] += 1\n",
    "for i in range(len(temp_dic)):\n",
    "    if(temp_dic[i]>1):\n",
    "        print(i, temp_dic[i])\n"
   ]
  },
  {
   "cell_type": "code",
   "execution_count": 36,
   "metadata": {},
   "outputs": [
    {
     "output_type": "stream",
     "name": "stdout",
     "text": [
      "1 3214\n2 445\n3 236\n4 198\n5 166\n6 133\n7 110\n8 90\n9 76\n10 68\n11 63\n12 61\n13 44\n14 41\n15 41\n16 39\n17 35\n18 28\n19 23\n20 19\n21 19\n22 18\n23 17\n24 16\n25 14\n"
     ]
    }
   ],
   "source": [
    "cnt = [0]*100\n",
    "for i in range(len(block_size)):\n",
    "    cnt[block_size[i]] += 1\n",
    "\n",
    "for i in range(len(cnt)):\n",
    "    if cnt[i]>0 :\n",
    "        print(i, cnt[i])\n"
   ]
  },
  {
   "cell_type": "code",
   "execution_count": 37,
   "metadata": {},
   "outputs": [
    {
     "output_type": "stream",
     "name": "stdout",
     "text": [
      "296060\n"
     ]
    }
   ],
   "source": [
    "print(max(block_weight))\n"
   ]
  },
  {
   "source": [
    "We will sort those according to fee/weight and use the best greedily without updating the effect of rest of transaction (changes in fee and weight of tree of other transations), of course we take care that no txid is printed twice and everything is printed in proper order , this works good if there is not much intersection between trees of transaction\n"
   ],
   "cell_type": "markdown",
   "metadata": {}
  },
  {
   "cell_type": "code",
   "execution_count": 38,
   "metadata": {},
   "outputs": [],
   "source": [
    "def comp(transaction):\n",
    "    idx = txid_map[transaction.txid]\n",
    "    a = block_fee[idx] \n",
    "    a /= block_weight[idx]\n",
    "    return a\n",
    "\n",
    "sort_transactions = transactions.copy()\n",
    "sort_transactions.sort(reverse=True, key= comp)\n",
    "#print(comp(sort_transactions[-1]))\n"
   ]
  },
  {
   "cell_type": "code",
   "execution_count": 39,
   "metadata": {},
   "outputs": [
    {
     "output_type": "execute_result",
     "data": {
      "text/plain": [
       "172"
      ]
     },
     "metadata": {},
     "execution_count": 39
    }
   ],
   "source": [
    "#Assuming less overlap we use the original sorted\n",
    "\n",
    "vis = [False]*5300 #visited array for transactions already used in block\n",
    "maxWt = 4000000\n",
    "opt_block = []\n",
    "opt_fee=0\n",
    "#len(sort_transactions)\n",
    "for i in range(len(sort_transactions)):\n",
    "    idx = txid_map[sort_transactions[i].txid]\n",
    "    for txid in block[idx]:\n",
    "        if vis[txid_map[txid]] == False:\n",
    "            if maxWt >= transactions[txid_map[txid]].weight:\n",
    "                #if the parent txid for the most fee/wt transaction is not already included in opt block, include it\n",
    "                opt_block.append(txid)\n",
    "                maxWt -= transactions[txid_map[txid]].weight\n",
    "                opt_fee += transactions[txid_map[txid]].fee\n",
    "                vis[txid_map[txid]] = True\n",
    "            else:\n",
    "                break\n",
    "maxWt"
   ]
  },
  {
   "cell_type": "code",
   "execution_count": 40,
   "metadata": {},
   "outputs": [
    {
     "output_type": "stream",
     "name": "stdout",
     "text": [
      "3270 3270\n",
      "Optimised Fee : 5797563 Optimised Weight : 3999828\n"
     ]
    }
   ],
   "source": [
    "print(len(set(opt_block)), len(opt_block))\n",
    "maxWt\n",
    "opt_fee\n",
    "vis = [False]*5300\n",
    "\n",
    "def test():\n",
    "    tot_fee = 0\n",
    "    tot_wt = 0\n",
    "    for txid in opt_block:\n",
    "        transaction = transactions[txid_map[txid]]\n",
    "        for parent in transaction.parents:\n",
    "            idx = txid_map[parent]\n",
    "            if vis[idx] == False:\n",
    "                print(\"Error\")\n",
    "\n",
    "        vis[txid_map[txid]] = True\n",
    "\n",
    "        tot_fee += transactions[txid_map[txid]].fee\n",
    "        tot_wt += transactions[txid_map[txid]].weight\n",
    "    return tot_fee,tot_wt\n",
    "\n",
    "a,b = test()\n",
    "print(\"Optimised Fee : {} Optimised Weight : {}\".format(a,b))\n"
   ]
  },
  {
   "source": [
    "To compare results case where we directly use first n transaction\n"
   ],
   "cell_type": "markdown",
   "metadata": {}
  },
  {
   "cell_type": "code",
   "execution_count": 41,
   "metadata": {},
   "outputs": [],
   "source": [
    "vis = [False]*5300\n",
    "maxWt = 4000000\n",
    "opt_block = []\n",
    "opt_fee=0\n",
    "#len(sort_transactions)\n",
    "for i in range(len(transactions)):\n",
    "    idx = txid_map[transactions[i].txid]\n",
    "    for txid in block[idx]:\n",
    "        if vis[txid_map[txid]] == False:\n",
    "            if maxWt >= transactions[txid_map[txid]].weight:\n",
    "                #if the parent txid for the most fee/wt transaction is not already included in opt block, include it\n",
    "                opt_block.append(txid)\n",
    "                maxWt -= transactions[txid_map[txid]].weight\n",
    "                opt_fee += transactions[txid_map[txid]].fee\n",
    "                vis[txid_map[txid]] = True\n",
    "            else:\n",
    "                break\n",
    "#maxWt\n"
   ]
  },
  {
   "cell_type": "code",
   "execution_count": 42,
   "metadata": {},
   "outputs": [
    {
     "output_type": "stream",
     "name": "stdout",
     "text": [
      "1534 1534\nOptimised Fee : 1214560 Optimised Weight : 3999920\n"
     ]
    }
   ],
   "source": [
    "print(len(set(opt_block)), len(opt_block))\n",
    "a,b = test()\n",
    "print(\"Optimised Fee : {} Optimised Weight : {}\".format(a,b))"
   ]
  },
  {
   "source": [
    " Slight optimisation over previous approach, We take transaction with maximum fee/wt and after taking it we update the transactions array (make fee of used parent transactions zero and reduce the weight and fee of the children transaction) so that we get the correct maximum fee/wt every time\n"
   ],
   "cell_type": "markdown",
   "metadata": {}
  },
  {
   "cell_type": "code",
   "execution_count": 43,
   "metadata": {},
   "outputs": [],
   "source": [
    "# funtion to fill children list for any given transaction\n",
    "def tx_children():\n",
    "    children = [[] for i in range(5300)]\n",
    "    for child in transactions:\n",
    "        for parent in child.parents:\n",
    "            children[txid_map[parent]].append(child.txid)\n",
    "    return children\n",
    "\n",
    "def test(a):\n",
    "    a += 5\n",
    "    return a\n"
   ]
  },
  {
   "cell_type": "code",
   "execution_count": 44,
   "metadata": {},
   "outputs": [],
   "source": [
    "children = tx_children()\n",
    "#print(children[0])\n"
   ]
  },
  {
   "cell_type": "code",
   "execution_count": 45,
   "metadata": {},
   "outputs": [
    {
     "output_type": "execute_result",
     "data": {
      "text/plain": [
       "\"txid_map['6eb38fad135e38a93cb47a15a5f953cbc0563fd84bf1abdec578c2af302e10bf']\\nchildren[0]\""
      ]
     },
     "metadata": {},
     "execution_count": 45
    }
   ],
   "source": [
    "'''txid_map['6eb38fad135e38a93cb47a15a5f953cbc0563fd84bf1abdec578c2af302e10bf']\n",
    "children[0]'''"
   ]
  },
  {
   "cell_type": "code",
   "execution_count": 46,
   "metadata": {},
   "outputs": [],
   "source": [
    "vis = [False]*5300\n",
    "opt_fee_wt = [0,4000000]\n",
    "opt_block = []\n",
    "\n",
    "curr_transations = transactions.copy()\n",
    "curr_block_fee = block_fee.copy()\n",
    "curr_block_wt = block_weight.copy()\n",
    "\n",
    "def comp(x):\n",
    "    idx = txid_map[x.txid]\n",
    "    if curr_block_wt[idx] == 0:\n",
    "        return 0\n",
    "    else:\n",
    "        return (curr_block_fee[idx]/curr_block_wt[idx])\n",
    "\n",
    "def update_children(nd,fee, wt, flag):\n",
    "    idx = txid_map[nd.txid]\n",
    "    if flag == 1:\n",
    "        curr_block_fee[idx] -= fee\n",
    "        curr_block_wt[idx] -= wt\n",
    "    \n",
    "    for child in children[idx]:\n",
    "        update_children(curr_transations[txid_map[child]], fee, wt, 1)\n",
    "\n",
    "\n",
    "def add_transaction(nd):\n",
    "    for parent in nd.parents:\n",
    "        if vis[txid_map[parent]] == False:\n",
    "            add_transaction(curr_transations[txid_map[parent]]) \n",
    "\n",
    "    idx = txid_map[nd.txid]\n",
    "    opt_block.append(nd.txid)\n",
    "    opt_fee_wt[0] += nd.fee   \n",
    "    opt_fee_wt[1] -= nd.weight   \n",
    "    curr_block_fee[idx] = 0\n",
    "    vis[idx] = True\n",
    "\n",
    "\n",
    "while 1:\n",
    "    nd = max(curr_transations, key=comp)\n",
    "    if curr_block_fee[txid_map[nd.txid]] == 0:\n",
    "        break\n",
    "\n",
    "    if vis[txid_map[nd.txid]] == False:\n",
    "        if opt_fee_wt[1] >= curr_block_wt[txid_map[nd.txid]]:\n",
    "            idx = txid_map[nd.txid]\n",
    "            update_children(nd, curr_block_fee[idx], curr_block_wt[idx], 0)\n",
    "            add_transaction(nd)\n",
    "        else:\n",
    "            curr_block_fee[txid_map[nd.txid]] = 0\n",
    "    else:\n",
    "            curr_block_fee[txid_map[nd.txid]] = 0\n"
   ]
  },
  {
   "cell_type": "code",
   "execution_count": 47,
   "metadata": {},
   "outputs": [
    {
     "output_type": "stream",
     "name": "stdout",
     "text": [
      "[5801809, 76]\n3269 3269\n"
     ]
    }
   ],
   "source": [
    "print(opt_fee_wt)\n",
    "print(len(set(opt_block)), len(opt_block))\n"
   ]
  },
  {
   "cell_type": "code",
   "execution_count": 48,
   "metadata": {},
   "outputs": [
    {
     "output_type": "stream",
     "name": "stdout",
     "text": [
      "Optimised Fee : 5801809 Optimised Weight : 3999924\n"
     ]
    }
   ],
   "source": [
    "vis = [False]*5300\n",
    "\n",
    "def test():#test if conditions are saisfied by the block\n",
    "    tot_fee = 0\n",
    "    tot_wt = 0\n",
    "    for txid in opt_block:\n",
    "        transaction = transactions[txid_map[txid]]\n",
    "        for parent in transaction.parents:\n",
    "            idx = txid_map[parent]\n",
    "            if vis[idx] == False:\n",
    "                print(\"Error\")\n",
    "\n",
    "        vis[txid_map[txid]] = True\n",
    "\n",
    "        tot_fee += transactions[txid_map[txid]].fee\n",
    "        tot_wt += transactions[txid_map[txid]].weight\n",
    "    return tot_fee,tot_wt\n",
    "\n",
    "a,b = test()\n",
    "print(\"Optimised Fee : {} Optimised Weight : {}\".format(a,b))\n"
   ]
  },
  {
   "cell_type": "code",
   "execution_count": 49,
   "metadata": {},
   "outputs": [],
   "source": [
    "solution_file = open(\"block.txt\", \"a\")\n",
    "for txid in opt_block:\n",
    "    solution_file.write(txid + \"\\n\")\n",
    "solution_file.close()"
   ]
  },
  {
   "cell_type": "code",
   "execution_count": 50,
   "metadata": {},
   "outputs": [],
   "source": [
    "#opt_block[1]"
   ]
  },
  {
   "cell_type": "code",
   "execution_count": null,
   "metadata": {},
   "outputs": [],
   "source": []
  }
 ]
}